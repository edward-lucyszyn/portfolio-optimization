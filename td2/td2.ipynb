{
 "cells": [
  {
   "cell_type": "markdown",
   "metadata": {},
   "source": [
    "<center>\n",
    "  <h1>ST7: Modélisation Des Risques Financiers</h1>\n",
    "  <h2>TD2: Markowitz</h2>\n",
    "</center>"
   ]
  },
  {
   "cell_type": "code",
   "execution_count": 1,
   "metadata": {},
   "outputs": [],
   "source": [
    "import numpy as np\n",
    "import matplotlib.pyplot as plt\n",
    "import pandas as pd\n",
    "from scipy.optimize import minimize"
   ]
  },
  {
   "cell_type": "markdown",
   "metadata": {},
   "source": [
    "\n",
    "## Exercice 1. *Data for exercise*\n",
    "\n",
    "We set $\\rho$ as the correlation matrix, $\\sigma$ the vector of standard deviation, $\\Sigma$ the covariance matrix and $\\mu$ as the vector of expected returns."
   ]
  },
  {
   "cell_type": "markdown",
   "metadata": {},
   "source": [
    "Equity USA, Equity EMU, Bond EUR Sovereign, Bond EUR IG Corp. \\& Cash\n",
    "$$\n",
    "\\begin{aligned}\n",
    "& \\mu=[5.7 \\%, 6.6 \\%, 3.3 \\%, 1.6 \\%, 0.2 \\%] \\\\\n",
    "& \\sigma=[14.3 \\%, 16.4 \\%, 8.3 \\%, 4.0 \\%, 0.5 \\%] \\\\\n",
    "& \\rho=\\left(\\begin{array}{ccccc}\n",
    "1.0 & 0.821 & -0.05 & 0.25 & 0 \\\\\n",
    "& 1.0 & -0.14 & 0.10 & 0 \\\\\n",
    "& & 1.0 & 0.67 & 0 \\\\\n",
    "& & & 1.0 & 0 \\\\\n",
    "& & & & 1\n",
    "\\end{array}\\right) \\\\\n",
    "& \\Sigma=\\operatorname{diag}(\\sigma) \\quad \\rho \\quad \\operatorname{diag}(\\sigma) \\\\\n",
    "&\n",
    "\\end{aligned}\n",
    "$$"
   ]
  },
  {
   "cell_type": "code",
   "execution_count": 2,
   "metadata": {},
   "outputs": [
    {
     "name": "stdout",
     "output_type": "stream",
     "text": [
      "(5,) (5,) (5, 5) (5, 5)\n"
     ]
    }
   ],
   "source": [
    "mu = np.array([0.057, 0.066, 0.033, 0.016, 0.002])\n",
    "sigma = np.array([0.143, 0.164, 0.083, 0.040, 0.005])\n",
    "rho = np.array([\n",
    "    [1.0, 0.821, -0.05, 0.25, 0],\n",
    "    [0.821, 1.0, -0.14, 0.10, 0],\n",
    "    [-0.05, -0.14, 1.0, 0.67, 0],\n",
    "    [0.25, 0.10, 0.67, 1.0, 0],\n",
    "    [0, 0, 0, 0, 1.0],\n",
    "])\n",
    "Sigma = np.diag(sigma) @ np.array(rho) @ np.diag(sigma)\n",
    "\n",
    "print(mu.shape, sigma.shape, rho.shape, Sigma.shape)"
   ]
  },
  {
   "cell_type": "markdown",
   "metadata": {},
   "source": [
    "## Exercice 2. *Mean Variance Optimization (MVO)*\n",
    "\n",
    "Checking your code \\& the utility function :\n",
    "$$\n",
    "w_{M V O}=\\operatorname{argmax}\\left(\\hat{\\mu}^T w\\right) \\quad \\text { u.c. } \\quad w^T \\hat{\\Sigma} w \\leq 10 \\%^2\n",
    "$$\n",
    "with $\\hat{\\mu}$ the vector of returns and $\\hat{\\Sigma}$ covariance matrix. Using the previous $\\hat{\\mu}$ and $\\hat{\\Sigma}$ :"
   ]
  },
  {
   "cell_type": "markdown",
   "metadata": {},
   "source": [
    "### a. Install cvxpy"
   ]
  },
  {
   "cell_type": "code",
   "execution_count": 3,
   "metadata": {},
   "outputs": [],
   "source": [
    "import cvxpy as cp"
   ]
  },
  {
   "cell_type": "markdown",
   "metadata": {},
   "source": [
    "### b. What is the value of vector $\\omega_{MVO}$ using cvxpy ?"
   ]
  },
  {
   "cell_type": "code",
   "execution_count": 4,
   "metadata": {},
   "outputs": [
    {
     "name": "stdout",
     "output_type": "stream",
     "text": [
      "===============================================================================\n",
      "                                     CVXPY                                     \n",
      "                                     v1.4.2                                    \n",
      "===============================================================================\n",
      "(CVXPY) Sep 04 12:22:42 PM: Your problem has 5 variables, 2 constraints, and 0 parameters.\n",
      "(CVXPY) Sep 04 12:22:42 PM: It is compliant with the following grammars: DCP, DQCP\n",
      "(CVXPY) Sep 04 12:22:42 PM: (If you need to solve this problem multiple times, but with different data, consider using parameters.)\n",
      "(CVXPY) Sep 04 12:22:42 PM: CVXPY will first compile your problem; then, it will invoke a numerical solver to obtain a solution.\n",
      "(CVXPY) Sep 04 12:22:42 PM: Your problem is compiled with the CPP canonicalization backend.\n",
      "-------------------------------------------------------------------------------\n",
      "                                  Compilation                                  \n",
      "-------------------------------------------------------------------------------\n",
      "(CVXPY) Sep 04 12:22:42 PM: Compiling problem (target solver=MOSEK).\n",
      "(CVXPY) Sep 04 12:22:42 PM: Reduction chain: FlipObjective -> Dcp2Cone -> CvxAttr2Constr -> ConeMatrixStuffing -> MOSEK\n",
      "(CVXPY) Sep 04 12:22:42 PM: Applying reduction FlipObjective\n",
      "(CVXPY) Sep 04 12:22:42 PM: Applying reduction Dcp2Cone\n",
      "(CVXPY) Sep 04 12:22:42 PM: Applying reduction CvxAttr2Constr\n",
      "(CVXPY) Sep 04 12:22:42 PM: Applying reduction ConeMatrixStuffing\n",
      "(CVXPY) Sep 04 12:22:42 PM: Applying reduction MOSEK\n",
      "(CVXPY) Sep 04 12:22:42 PM: Finished problem compilation (took 2.117e-02 seconds).\n",
      "-------------------------------------------------------------------------------\n",
      "                                Numerical solver                               \n",
      "-------------------------------------------------------------------------------\n",
      "(CVXPY) Sep 04 12:22:42 PM: Invoking solver MOSEK  to obtain a solution.\n",
      "\n",
      "\n",
      "(CVXPY) Sep 04 12:22:42 PM: Problem\n",
      "(CVXPY) Sep 04 12:22:42 PM:   Name                   :                 \n",
      "(CVXPY) Sep 04 12:22:42 PM:   Objective sense        : maximize        \n",
      "(CVXPY) Sep 04 12:22:42 PM:   Type                   : CONIC (conic optimization problem)\n",
      "(CVXPY) Sep 04 12:22:42 PM:   Constraints            : 6               \n",
      "(CVXPY) Sep 04 12:22:42 PM:   Affine conic cons.     : 0               \n",
      "(CVXPY) Sep 04 12:22:42 PM:   Disjunctive cons.      : 0               \n",
      "(CVXPY) Sep 04 12:22:42 PM:   Cones                  : 1               \n",
      "(CVXPY) Sep 04 12:22:42 PM:   Scalar variables       : 9               \n",
      "(CVXPY) Sep 04 12:22:42 PM:   Matrix variables       : 0               \n",
      "(CVXPY) Sep 04 12:22:42 PM:   Integer variables      : 0               \n",
      "(CVXPY) Sep 04 12:22:42 PM: \n",
      "(CVXPY) Sep 04 12:22:42 PM: Optimizer started.\n",
      "(CVXPY) Sep 04 12:22:42 PM: Presolve started.\n",
      "(CVXPY) Sep 04 12:22:42 PM: Eliminator started.\n",
      "(CVXPY) Sep 04 12:22:42 PM: Freed constraints in eliminator : 0\n",
      "(CVXPY) Sep 04 12:22:42 PM: Eliminator terminated.\n",
      "(CVXPY) Sep 04 12:22:42 PM: Linear dependency checker started.\n",
      "(CVXPY) Sep 04 12:22:42 PM: Linear dependency checker terminated.\n",
      "(CVXPY) Sep 04 12:22:42 PM: Eliminator started.\n",
      "(CVXPY) Sep 04 12:22:42 PM: Freed constraints in eliminator : 0\n",
      "(CVXPY) Sep 04 12:22:42 PM: Eliminator terminated.\n",
      "(CVXPY) Sep 04 12:22:42 PM: Eliminator - tries                  : 2                 time                   : 0.00            \n",
      "(CVXPY) Sep 04 12:22:42 PM: Lin. dep.  - tries                  : 1                 time                   : 0.00            \n",
      "(CVXPY) Sep 04 12:22:42 PM: Lin. dep.  - primal attempts        : 1                 successes              : 1               \n",
      "(CVXPY) Sep 04 12:22:42 PM: Lin. dep.  - dual attempts          : 0                 successes              : 0               \n",
      "(CVXPY) Sep 04 12:22:42 PM: Lin. dep.  - primal deps.           : 0                 dual deps.             : 0               \n",
      "(CVXPY) Sep 04 12:22:42 PM: Presolve terminated. Time: 0.01    \n",
      "(CVXPY) Sep 04 12:22:42 PM: Optimizer  - threads                : 8               \n",
      "(CVXPY) Sep 04 12:22:42 PM: Optimizer  - solved problem         : the primal      \n",
      "(CVXPY) Sep 04 12:22:42 PM: Optimizer  - Constraints            : 5               \n",
      "(CVXPY) Sep 04 12:22:42 PM: Optimizer  - Cones                  : 1               \n",
      "(CVXPY) Sep 04 12:22:42 PM: Optimizer  - Scalar variables       : 8                 conic                  : 7               \n",
      "(CVXPY) Sep 04 12:22:42 PM: Optimizer  - Semi-definite variables: 0                 scalarized             : 0               \n",
      "(CVXPY) Sep 04 12:22:42 PM: Factor     - setup time             : 0.00            \n",
      "(CVXPY) Sep 04 12:22:42 PM: Factor     - dense det. time        : 0.00              GP order time          : 0.00            \n",
      "(CVXPY) Sep 04 12:22:42 PM: Factor     - nonzeros before factor : 15                after factor           : 15              \n",
      "(CVXPY) Sep 04 12:22:42 PM: Factor     - dense dim.             : 0                 flops                  : 1.93e+02        \n",
      "(CVXPY) Sep 04 12:22:42 PM: ITE PFEAS    DFEAS    GFEAS    PRSTATUS   POBJ              DOBJ              MU       TIME  \n",
      "(CVXPY) Sep 04 12:22:42 PM: 0   1.0e+00  1.0e+00  2.0e+00  0.00e+00   -1.002000000e+00  -2.000000000e-03  1.0e+00  0.01  \n",
      "(CVXPY) Sep 04 12:22:42 PM: 1   1.1e-01  1.1e-01  5.4e-02  4.36e-01   -2.044179865e-01  -7.476557775e-03  1.1e-01  0.03  \n",
      "(CVXPY) Sep 04 12:22:42 PM: 2   2.9e-02  2.9e-02  6.8e-03  1.71e+00   -6.154215408e-02  -2.724135505e-02  2.9e-02  0.03  \n",
      "(CVXPY) Sep 04 12:22:42 PM: 3   5.9e-03  5.9e-03  7.2e-04  1.02e+00   -6.409637348e-02  -5.777717821e-02  5.9e-03  0.03  \n",
      "(CVXPY) Sep 04 12:22:42 PM: 4   1.5e-04  1.5e-04  3.0e-06  1.03e+00   -6.060656931e-02  -6.044759300e-02  1.5e-04  0.04  \n",
      "(CVXPY) Sep 04 12:22:42 PM: 5   1.1e-06  1.1e-06  2.0e-09  9.99e-01   -6.057769816e-02  -6.057656186e-02  1.1e-06  0.04  \n",
      "(CVXPY) Sep 04 12:22:42 PM: 6   3.5e-08  3.5e-08  1.1e-11  1.00e+00   -6.057719197e-02  -6.057715655e-02  3.5e-08  0.04  \n",
      "(CVXPY) Sep 04 12:22:42 PM: 7   7.4e-10  7.4e-10  3.3e-14  1.00e+00   -6.057717173e-02  -6.057717098e-02  7.4e-10  0.04  \n",
      "(CVXPY) Sep 04 12:22:42 PM: Optimizer terminated. Time: 0.06    \n",
      "(CVXPY) Sep 04 12:22:42 PM: \n",
      "(CVXPY) Sep 04 12:22:42 PM: \n",
      "(CVXPY) Sep 04 12:22:42 PM: Interior-point solution summary\n",
      "(CVXPY) Sep 04 12:22:42 PM:   Problem status  : PRIMAL_AND_DUAL_FEASIBLE\n",
      "(CVXPY) Sep 04 12:22:42 PM:   Solution status : OPTIMAL\n",
      "(CVXPY) Sep 04 12:22:42 PM:   Primal.  obj: -6.0577171725e-02   nrm: 3e+00    Viol.  con: 6e-10    var: 0e+00    cones: 0e+00  \n",
      "(CVXPY) Sep 04 12:22:42 PM:   Dual.    obj: -6.0577170984e-02   nrm: 1e+00    Viol.  con: 0e+00    var: 6e-10    cones: 0e+00  \n",
      "-------------------------------------------------------------------------------\n",
      "                                    Summary                                    \n",
      "-------------------------------------------------------------------------------\n",
      "(CVXPY) Sep 04 12:22:42 PM: Problem status: optimal\n",
      "(CVXPY) Sep 04 12:22:42 PM: Optimal value: 6.058e-02\n",
      "(CVXPY) Sep 04 12:22:42 PM: Compilation took 2.117e-02 seconds\n",
      "(CVXPY) Sep 04 12:22:42 PM: Solver (including time spent in interface) took 8.832e-02 seconds\n",
      "\n",
      " Optimal omega for risk = 0.01 : [ 0.13517262  0.37296697  0.88892711 -0.02028213 -0.37678458]\n",
      "===============================================================================\n",
      "                                     CVXPY                                     \n",
      "                                     v1.4.2                                    \n",
      "===============================================================================\n",
      "(CVXPY) Sep 04 12:22:42 PM: Your problem has 5 variables, 2 constraints, and 0 parameters.\n",
      "(CVXPY) Sep 04 12:22:42 PM: It is compliant with the following grammars: DCP, DQCP\n",
      "(CVXPY) Sep 04 12:22:42 PM: (If you need to solve this problem multiple times, but with different data, consider using parameters.)\n",
      "(CVXPY) Sep 04 12:22:42 PM: CVXPY will first compile your problem; then, it will invoke a numerical solver to obtain a solution.\n",
      "(CVXPY) Sep 04 12:22:42 PM: Your problem is compiled with the CPP canonicalization backend.\n",
      "-------------------------------------------------------------------------------\n",
      "                                  Compilation                                  \n",
      "-------------------------------------------------------------------------------\n",
      "(CVXPY) Sep 04 12:22:42 PM: Compiling problem (target solver=MOSEK).\n",
      "(CVXPY) Sep 04 12:22:42 PM: Reduction chain: FlipObjective -> Dcp2Cone -> CvxAttr2Constr -> ConeMatrixStuffing -> MOSEK\n",
      "(CVXPY) Sep 04 12:22:42 PM: Applying reduction FlipObjective\n",
      "(CVXPY) Sep 04 12:22:42 PM: Applying reduction Dcp2Cone\n",
      "(CVXPY) Sep 04 12:22:42 PM: Applying reduction CvxAttr2Constr\n",
      "(CVXPY) Sep 04 12:22:42 PM: Applying reduction ConeMatrixStuffing\n",
      "(CVXPY) Sep 04 12:22:42 PM: Applying reduction MOSEK\n",
      "(CVXPY) Sep 04 12:22:42 PM: Finished problem compilation (took 3.124e-02 seconds).\n",
      "-------------------------------------------------------------------------------\n",
      "                                Numerical solver                               \n",
      "-------------------------------------------------------------------------------\n",
      "(CVXPY) Sep 04 12:22:42 PM: Invoking solver MOSEK  to obtain a solution.\n",
      "\n",
      "\n",
      "(CVXPY) Sep 04 12:22:42 PM: Problem\n",
      "(CVXPY) Sep 04 12:22:42 PM:   Name                   :                 \n",
      "(CVXPY) Sep 04 12:22:42 PM:   Objective sense        : maximize        \n",
      "(CVXPY) Sep 04 12:22:42 PM:   Type                   : CONIC (conic optimization problem)\n",
      "(CVXPY) Sep 04 12:22:42 PM:   Constraints            : 6               \n",
      "(CVXPY) Sep 04 12:22:42 PM:   Affine conic cons.     : 0               \n",
      "(CVXPY) Sep 04 12:22:42 PM:   Disjunctive cons.      : 0               \n",
      "(CVXPY) Sep 04 12:22:42 PM:   Cones                  : 1               \n",
      "(CVXPY) Sep 04 12:22:42 PM:   Scalar variables       : 9               \n",
      "(CVXPY) Sep 04 12:22:42 PM:   Matrix variables       : 0               \n",
      "(CVXPY) Sep 04 12:22:42 PM:   Integer variables      : 0               \n",
      "(CVXPY) Sep 04 12:22:42 PM: \n",
      "(CVXPY) Sep 04 12:22:42 PM: Optimizer started.\n",
      "(CVXPY) Sep 04 12:22:42 PM: Presolve started.\n",
      "(CVXPY) Sep 04 12:22:42 PM: Eliminator started.\n",
      "(CVXPY) Sep 04 12:22:42 PM: Freed constraints in eliminator : 0\n",
      "(CVXPY) Sep 04 12:22:42 PM: Eliminator terminated.\n",
      "(CVXPY) Sep 04 12:22:42 PM: Linear dependency checker started.\n",
      "(CVXPY) Sep 04 12:22:42 PM: Linear dependency checker terminated.\n",
      "(CVXPY) Sep 04 12:22:42 PM: Eliminator started.\n",
      "(CVXPY) Sep 04 12:22:42 PM: Freed constraints in eliminator : 0\n",
      "(CVXPY) Sep 04 12:22:42 PM: Eliminator terminated.\n",
      "(CVXPY) Sep 04 12:22:42 PM: Eliminator - tries                  : 2                 time                   : 0.00            \n",
      "(CVXPY) Sep 04 12:22:42 PM: Lin. dep.  - tries                  : 1                 time                   : 0.00            \n",
      "(CVXPY) Sep 04 12:22:42 PM: Lin. dep.  - primal attempts        : 1                 successes              : 1               \n",
      "(CVXPY) Sep 04 12:22:42 PM: Lin. dep.  - dual attempts          : 0                 successes              : 0               \n",
      "(CVXPY) Sep 04 12:22:42 PM: Lin. dep.  - primal deps.           : 0                 dual deps.             : 0               \n",
      "(CVXPY) Sep 04 12:22:42 PM: Presolve terminated. Time: 0.01    \n",
      "(CVXPY) Sep 04 12:22:42 PM: Optimizer  - threads                : 8               \n",
      "(CVXPY) Sep 04 12:22:42 PM: Optimizer  - solved problem         : the primal      \n",
      "(CVXPY) Sep 04 12:22:42 PM: Optimizer  - Constraints            : 5               \n",
      "(CVXPY) Sep 04 12:22:42 PM: Optimizer  - Cones                  : 1               \n",
      "(CVXPY) Sep 04 12:22:42 PM: Optimizer  - Scalar variables       : 8                 conic                  : 7               \n",
      "(CVXPY) Sep 04 12:22:42 PM: Optimizer  - Semi-definite variables: 0                 scalarized             : 0               \n",
      "(CVXPY) Sep 04 12:22:42 PM: Factor     - setup time             : 0.00            \n",
      "(CVXPY) Sep 04 12:22:42 PM: Factor     - dense det. time        : 0.00              GP order time          : 0.00            \n",
      "(CVXPY) Sep 04 12:22:42 PM: Factor     - nonzeros before factor : 15                after factor           : 15              \n",
      "(CVXPY) Sep 04 12:22:42 PM: Factor     - dense dim.             : 0                 flops                  : 1.93e+02        \n",
      "(CVXPY) Sep 04 12:22:42 PM: ITE PFEAS    DFEAS    GFEAS    PRSTATUS   POBJ              DOBJ              MU       TIME  \n",
      "(CVXPY) Sep 04 12:22:42 PM: 0   1.0e+00  1.6e+00  2.0e+00  0.00e+00   -1.002000000e+00  -2.000000000e-03  1.0e+00  0.02  \n",
      "(CVXPY) Sep 04 12:22:42 PM: 1   9.8e-02  1.6e-01  6.6e-02  4.74e-01   -1.318563123e-01  -9.719008427e-03  9.8e-02  0.03  \n",
      "(CVXPY) Sep 04 12:22:42 PM: 2   2.9e-02  4.6e-02  1.2e-02  8.81e-01   -1.127090198e-01  -7.947580787e-02  2.9e-02  0.03  \n",
      "(CVXPY) Sep 04 12:22:42 PM: 3   9.5e-03  1.5e-02  2.5e-03  7.54e-01   -1.738765755e-01  -1.631488810e-01  9.5e-03  0.03  \n",
      "(CVXPY) Sep 04 12:22:42 PM: 4   7.4e-04  1.2e-03  5.4e-05  9.76e-01   -1.862212196e-01  -1.853811404e-01  7.4e-04  0.03  \n",
      "(CVXPY) Sep 04 12:22:42 PM: 5   1.7e-05  2.8e-05  1.9e-07  9.98e-01   -1.870110110e-01  -1.869915025e-01  1.7e-05  0.03  \n",
      "(CVXPY) Sep 04 12:22:42 PM: 6   7.8e-07  1.3e-06  1.9e-09  1.00e+00   -1.870119940e-01  -1.870111133e-01  7.8e-07  0.04  \n",
      "(CVXPY) Sep 04 12:22:42 PM: 7   1.5e-08  2.4e-08  5.0e-12  1.00e+00   -1.870116605e-01  -1.870116436e-01  1.5e-08  0.04  \n",
      "(CVXPY) Sep 04 12:22:42 PM: 8   8.4e-11  1.3e-10  2.1e-15  1.00e+00   -1.870116503e-01  -1.870116502e-01  8.4e-11  0.04  \n",
      "(CVXPY) Sep 04 12:22:42 PM: Optimizer terminated. Time: 0.05    \n",
      "(CVXPY) Sep 04 12:22:42 PM: \n",
      "(CVXPY) Sep 04 12:22:42 PM: \n",
      "(CVXPY) Sep 04 12:22:42 PM: Interior-point solution summary\n",
      "(CVXPY) Sep 04 12:22:42 PM:   Problem status  : PRIMAL_AND_DUAL_FEASIBLE\n",
      "(CVXPY) Sep 04 12:22:42 PM:   Solution status : OPTIMAL\n",
      "(CVXPY) Sep 04 12:22:42 PM:   Primal.  obj: -1.8701165028e-01   nrm: 9e-01    Viol.  con: 1e-10    var: 0e+00    cones: 0e+00  \n",
      "(CVXPY) Sep 04 12:22:42 PM:   Dual.    obj: -1.8701165018e-01   nrm: 3e+00    Viol.  con: 0e+00    var: 1e-10    cones: 0e+00  \n",
      "-------------------------------------------------------------------------------\n",
      "                                    Summary                                    \n",
      "-------------------------------------------------------------------------------\n",
      "(CVXPY) Sep 04 12:22:42 PM: Problem status: optimal\n",
      "(CVXPY) Sep 04 12:22:42 PM: Optimal value: 1.870e-01\n",
      "(CVXPY) Sep 04 12:22:42 PM: Compilation took 3.124e-02 seconds\n",
      "(CVXPY) Sep 04 12:22:42 PM: Solver (including time spent in interface) took 7.338e-02 seconds\n",
      "\n",
      " Optimal omega for risk = 0.1 : [ 0.43116934  1.17786663  2.81969823 -0.10691236 -3.32182184]\n"
     ]
    }
   ],
   "source": [
    "# Compute value of vector w that maximizes the expected return\n",
    "for risk in [0.01, 0.1]:\n",
    "    w = cp.Variable(5)\n",
    "    objective = cp.Maximize(mu.T @ w)\n",
    "    constraints = [w.T @ Sigma @ w <= risk, cp.sum(w) == 1] # Allowing negative weights because of short selling\n",
    "    problem = cp.Problem(objective, constraints)\n",
    "    problem.solve(verbose=True)\n",
    "    print('\\n Optimal omega for risk = ' + str(risk) + ' :', w.value)"
   ]
  },
  {
   "cell_type": "markdown",
   "metadata": {},
   "source": [
    "### c. Check this outputs using an analytic solution i.e. this solution could be solved without a solver"
   ]
  },
  {
   "cell_type": "markdown",
   "metadata": {},
   "source": [
    "Let's introduce the Lagrangian to solve this problem under constraints:\n",
    "\n",
    "\\begin{align*}\n",
    "    L(w, \\lambda, \\theta) = \\mu^T w - \\lambda (w^T \\Sigma w - 0.1) - \\theta(1 - w^T \\mathbb{1}).\n",
    "\\end{align*}\n",
    "It leads to:\n",
    "\n",
    "\\begin{equation*}\n",
    "    \\frac{\\partial L}{\\partial w} = \\mu - 2 \\lambda \\Sigma w + \\theta \\mathbb{1};\n",
    "\\end{equation*}\n",
    "\n",
    "\\begin{equation*}\n",
    "    \\frac{\\partial L}{\\partial \\lambda} = \\mu^T \\Sigma w - 0.1;\n",
    "\\end{equation*}\n",
    "\n",
    "\\begin{equation*}\n",
    "    \\frac{\\partial L}{\\partial \\theta} = 1 - w^T \\mathbb{1}.\n",
    "\\end{equation*}\n",
    "\n",
    "Cancelling all the derivatives we obtain:\n",
    "\\begin{equation*}\n",
    "    \\Sigma^{-1} \\frac{\\mu + \\theta \\mathbb{1}}{2 \\lambda}  = w.\n",
    "\\end{equation*}\n",
    "\n",
    "Thus,\n",
    "\n",
    "\\begin{equation*}\n",
    "    \\mu^T \\Sigma^{-1} \\mu + \\theta^2 \\mathbb{1}^T \\Sigma^{-1} \\mathbb{1} + 2 \\mu^T \\Sigma^{-1} \\mathbb{1} \\theta = \\frac{4 \\lambda^2}{10};\n",
    "\\end{equation*}\n",
    "\n",
    "\\begin{equation*}\n",
    "    \\mu \\Sigma^{-1} \\mathbb{1} + \\theta \\mathbb{1}^T \\Sigma^{-1} \\mathbb{1} = 2 \\lambda.\n",
    "\\end{equation*}"
   ]
  },
  {
   "cell_type": "markdown",
   "metadata": {},
   "source": [
    "### d. What is the point of these two steps ?"
   ]
  },
  {
   "cell_type": "markdown",
   "metadata": {},
   "source": [
    "### e. What is the value of λ to achieve the same result with the following utility function : $w_{M V O}=\\operatorname{argmax}\\left(\\hat{\\mu}^T w - \\lambda w^T \\hat{\\Sigma} w \\right)$"
   ]
  },
  {
   "cell_type": "code",
   "execution_count": 5,
   "metadata": {},
   "outputs": [
    {
     "name": "stdout",
     "output_type": "stream",
     "text": [
      "Optimal omega for MVO: [ 523.19428667  737.55685911  -33.6814053  -445.31299046 -780.75675003]\n",
      "Optimal lambda for MVO: 0.00010380681822027481\n"
     ]
    }
   ],
   "source": [
    "# Define the objective function\n",
    "def objective(x):\n",
    "    return -np.dot(mu, x[:5]) + x[5] * np.dot(x[:5], np.dot(Sigma, x[:5]))\n",
    "\n",
    "# Define the equality constraint\n",
    "def constraint(x):\n",
    "    return np.sum(x[:5]) - 1\n",
    "\n",
    "# Define the initial guess\n",
    "x0 = np.ones(5) / 5\n",
    "x0 = np.append(x0, 0.3)\n",
    "\n",
    "# Define the bounds for each variable\n",
    "bounds = [(None, None)] * 5 + [(0, None)]\n",
    "\n",
    "# Define the equality constraint\n",
    "eq_cons = {'type': 'eq', 'fun': constraint}\n",
    "\n",
    "# Define the optimization problem\n",
    "problem = minimize(objective, x0, method='SLSQP', bounds=bounds, constraints=[eq_cons])\n",
    "\n",
    "# Print the optimal solution\n",
    "print('Optimal omega for MVO:', problem.x[:5])\n",
    "print('Optimal lambda for MVO:', problem.x[5])\n"
   ]
  },
  {
   "cell_type": "markdown",
   "metadata": {},
   "source": [
    "## Exercice 3. *Efficient frontier*\n",
    "\n",
    "Using the same data as exercice 1 :\n",
    "\n",
    "### a. Draw the efficient frontier for a risk (volatility) ranging from 1% to 15% (likewise, these figures are annualized volatility values)."
   ]
  },
  {
   "cell_type": "code",
   "execution_count": 6,
   "metadata": {},
   "outputs": [
    {
     "data": {
      "image/png": "[encoded data removed]",
      "text/plain": [
       "<Figure size 640x480 with 1 Axes>"
      ]
     },
     "metadata": {},
     "output_type": "display_data"
    },
    {
     "data": {
      "image/png": "[encoded data removed]",
      "text/plain": [
       "<Figure size 640x480 with 1 Axes>"
      ]
     },
     "metadata": {},
     "output_type": "display_data"
    },
    {
     "name": "stdout",
     "output_type": "stream",
     "text": [
      "Value of the inflection point: 0.05\n"
     ]
    }
   ],
   "source": [
    "# Define the range of target risks (volatilities)\n",
    "target_risks = np.linspace(0.05, 0.5, 200)\n",
    "\n",
    "# Compute the optimal weights for each target risk\n",
    "optimal_weights = []\n",
    "for target_risk in target_risks:\n",
    "    w = cp.Variable(5)\n",
    "    objective = cp.Maximize(mu.T @ w)\n",
    "    constraints = [w.T @ Sigma @ w <= target_risk, cp.sum(w) == 1]\n",
    "    problem = cp.Problem(objective, constraints)\n",
    "    problem.solve()\n",
    "    optimal_weights.append(w.value)\n",
    "\n",
    "optimal_weights = np.array(optimal_weights)\n",
    "\n",
    "# Plot the efficient frontier\n",
    "plt.plot(target_risks, mu @ optimal_weights.T, 'k-')\n",
    "plt.xlabel('Target Risk')\n",
    "plt.ylabel('Expected Return')\n",
    "plt.title('Efficient Frontier')\n",
    "plt.show()\n",
    "\n",
    "# Plot the derivative of the efficient frontier\n",
    "plt.plot(target_risks, mu @ optimal_weights.T / target_risks, 'k-')\n",
    "plt.xlabel('Target Risk')\n",
    "plt.ylabel('Slope of the Efficient Frontier')\n",
    "plt.title('Derivative of the Efficient Frontier')\n",
    "plt.show()\n",
    "\n",
    "# Compute the value of the inflection point\n",
    "inflection_point = target_risks[np.argmax(mu @ optimal_weights.T / target_risks)]\n",
    "print('Value of the inflection point:', inflection_point)"
   ]
  },
  {
   "cell_type": "markdown",
   "metadata": {},
   "source": [
    "### b. Comment the obtained results.\n",
    "\n",
    "Increasing the target risk typically leads to an increase in expected return. As investors seek higher returns, they often need to accept greater levels of risk. By setting a higher target risk, investors are essentially signaling their willingness to tolerate more volatility in exchange for potentially higher rewards."
   ]
  }
 ],
 "metadata": {
  "kernelspec": {
   "display_name": "Python 3",
   "language": "python",
   "name": "python3"
  },
  "language_info": {
   "codemirror_mode": {
    "name": "ipython",
    "version": 3
   },
   "file_extension": ".py",
   "mimetype": "text/x-python",
   "name": "python",
   "nbconvert_exporter": "python",
   "pygments_lexer": "ipython3",
   "version": "3.11.3"
  }
 },
 "nbformat": 4,
 "nbformat_minor": 2
}
